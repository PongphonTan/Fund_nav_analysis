{
 "cells": [
  {
   "attachments": {},
   "cell_type": "markdown",
   "metadata": {},
   "source": [
    "# import needed library"
   ]
  },
  {
   "cell_type": "code",
   "execution_count": 7,
   "metadata": {},
   "outputs": [],
   "source": [
    "import datetime as dt\n",
    "import requests\n",
    "import pandas as pd\n",
    "from pathlib import Path"
   ]
  },
  {
   "attachments": {},
   "cell_type": "markdown",
   "metadata": {},
   "source": [
    "# Create range of start date\n",
    "**31 day gap to create a range of 30 day between start date and end date (inclusive)**"
   ]
  },
  {
   "cell_type": "code",
   "execution_count": 15,
   "metadata": {},
   "outputs": [
    {
     "data": {
      "text/plain": [
       "DatetimeIndex(['2018-01-01', '2018-02-01', '2018-03-04', '2018-04-04',\n",
       "               '2018-05-05', '2018-06-05', '2018-07-06', '2018-08-06',\n",
       "               '2018-09-06', '2018-10-07', '2018-11-07', '2018-12-08',\n",
       "               '2019-01-08', '2019-02-08', '2019-03-11', '2019-04-11',\n",
       "               '2019-05-12', '2019-06-12', '2019-07-13', '2019-08-13',\n",
       "               '2019-09-13', '2019-10-14', '2019-11-14', '2019-12-15',\n",
       "               '2020-01-15', '2020-02-15', '2020-03-17', '2020-04-17',\n",
       "               '2020-05-18', '2020-06-18', '2020-07-19', '2020-08-19',\n",
       "               '2020-09-19', '2020-10-20', '2020-11-20', '2020-12-21',\n",
       "               '2021-01-21', '2021-02-21', '2021-03-24', '2021-04-24',\n",
       "               '2021-05-25', '2021-06-25', '2021-07-26', '2021-08-26',\n",
       "               '2021-09-26', '2021-10-27', '2021-11-27', '2021-12-28',\n",
       "               '2022-01-28', '2022-02-28', '2022-03-31', '2022-05-01',\n",
       "               '2022-06-01', '2022-07-02', '2022-08-02', '2022-09-02',\n",
       "               '2022-10-03', '2022-11-03', '2022-12-04', '2023-01-04',\n",
       "               '2023-02-04'],\n",
       "              dtype='datetime64[ns]', freq='31D')"
      ]
     },
     "execution_count": 15,
     "metadata": {},
     "output_type": "execute_result"
    }
   ],
   "source": [
    "### mannual select ###\n",
    "#date_range_list = pd.date_range(start='2018-01-01', end='2023-02-28', freq='31D',)\n",
    "### auto select ###\n",
    "date_range_list = pd.date_range(start='2018-01-01', end=dt.datetime.now() - dt.timedelta(days=1), freq='31D',)\n",
    "date_range_list"
   ]
  },
  {
   "attachments": {},
   "cell_type": "markdown",
   "metadata": {},
   "source": [
    "# Create a range of 30 day between start date and end date"
   ]
  },
  {
   "attachments": {},
   "cell_type": "markdown",
   "metadata": {},
   "source": [
    "## Create a list of start and end date pair"
   ]
  },
  {
   "cell_type": "code",
   "execution_count": 3,
   "metadata": {},
   "outputs": [],
   "source": [
    "shift = date_range_list + pd.Timedelta(days=30)\n",
    "pairs = list(map(list, zip(date_range_list, shift)))"
   ]
  },
  {
   "attachments": {},
   "cell_type": "markdown",
   "metadata": {},
   "source": [
    "## Check date range to download"
   ]
  },
  {
   "cell_type": "code",
   "execution_count": 4,
   "metadata": {},
   "outputs": [
    {
     "name": "stdout",
     "output_type": "stream",
     "text": [
      "start = 01/01/2018, end = 31/01/2018\n",
      "start = 01/02/2018, end = 03/03/2018\n",
      "start = 04/03/2018, end = 03/04/2018\n",
      "start = 04/04/2018, end = 04/05/2018\n",
      "start = 05/05/2018, end = 04/06/2018\n",
      "start = 05/06/2018, end = 05/07/2018\n",
      "start = 06/07/2018, end = 05/08/2018\n",
      "start = 06/08/2018, end = 05/09/2018\n",
      "start = 06/09/2018, end = 06/10/2018\n",
      "start = 07/10/2018, end = 06/11/2018\n",
      "start = 07/11/2018, end = 07/12/2018\n",
      "start = 08/12/2018, end = 07/01/2019\n",
      "start = 08/01/2019, end = 07/02/2019\n",
      "start = 08/02/2019, end = 10/03/2019\n",
      "start = 11/03/2019, end = 10/04/2019\n",
      "start = 11/04/2019, end = 11/05/2019\n",
      "start = 12/05/2019, end = 11/06/2019\n",
      "start = 12/06/2019, end = 12/07/2019\n",
      "start = 13/07/2019, end = 12/08/2019\n",
      "start = 13/08/2019, end = 12/09/2019\n",
      "start = 13/09/2019, end = 13/10/2019\n",
      "start = 14/10/2019, end = 13/11/2019\n",
      "start = 14/11/2019, end = 14/12/2019\n",
      "start = 15/12/2019, end = 14/01/2020\n",
      "start = 15/01/2020, end = 14/02/2020\n",
      "start = 15/02/2020, end = 16/03/2020\n",
      "start = 17/03/2020, end = 16/04/2020\n",
      "start = 17/04/2020, end = 17/05/2020\n",
      "start = 18/05/2020, end = 17/06/2020\n",
      "start = 18/06/2020, end = 18/07/2020\n",
      "start = 19/07/2020, end = 18/08/2020\n",
      "start = 19/08/2020, end = 18/09/2020\n",
      "start = 19/09/2020, end = 19/10/2020\n",
      "start = 20/10/2020, end = 19/11/2020\n",
      "start = 20/11/2020, end = 20/12/2020\n",
      "start = 21/12/2020, end = 20/01/2021\n",
      "start = 21/01/2021, end = 20/02/2021\n",
      "start = 21/02/2021, end = 23/03/2021\n",
      "start = 24/03/2021, end = 23/04/2021\n",
      "start = 24/04/2021, end = 24/05/2021\n",
      "start = 25/05/2021, end = 24/06/2021\n",
      "start = 25/06/2021, end = 25/07/2021\n",
      "start = 26/07/2021, end = 25/08/2021\n",
      "start = 26/08/2021, end = 25/09/2021\n",
      "start = 26/09/2021, end = 26/10/2021\n",
      "start = 27/10/2021, end = 26/11/2021\n",
      "start = 27/11/2021, end = 27/12/2021\n",
      "start = 28/12/2021, end = 27/01/2022\n",
      "start = 28/01/2022, end = 27/02/2022\n",
      "start = 28/02/2022, end = 30/03/2022\n",
      "start = 31/03/2022, end = 30/04/2022\n",
      "start = 01/05/2022, end = 31/05/2022\n",
      "start = 01/06/2022, end = 01/07/2022\n",
      "start = 02/07/2022, end = 01/08/2022\n",
      "start = 02/08/2022, end = 01/09/2022\n",
      "start = 02/09/2022, end = 02/10/2022\n",
      "start = 03/10/2022, end = 02/11/2022\n",
      "start = 03/11/2022, end = 03/12/2022\n",
      "start = 04/12/2022, end = 03/01/2023\n",
      "start = 04/01/2023, end = 03/02/2023\n",
      "start = 04/02/2023, end = 06/03/2023\n"
     ]
    }
   ],
   "source": [
    "for i in pairs:\n",
    "    print(f'''start = {i[0].strftime(\"%d/%m/%Y\")}, end = {i[1].strftime(\"%d/%m/%Y\")}''')"
   ]
  },
  {
   "attachments": {},
   "cell_type": "markdown",
   "metadata": {},
   "source": [
    "# Download data (30 day each) and output to CSV"
   ]
  },
  {
   "cell_type": "code",
   "execution_count": 9,
   "metadata": {},
   "outputs": [
    {
     "name": "stdout",
     "output_type": "stream",
     "text": [
      "Output already exist = C:\\Users\\Family\\OneDrive - Mahidol University\\PT\\script\\Fund_data\\Fund_nav_01-01-2018_31-01-2018.csv\n",
      "Output already exist = C:\\Users\\Family\\OneDrive - Mahidol University\\PT\\script\\Fund_data\\Fund_nav_01-02-2018_03-03-2018.csv\n",
      "Output already exist = C:\\Users\\Family\\OneDrive - Mahidol University\\PT\\script\\Fund_data\\Fund_nav_04-03-2018_03-04-2018.csv\n",
      "Output already exist = C:\\Users\\Family\\OneDrive - Mahidol University\\PT\\script\\Fund_data\\Fund_nav_04-04-2018_04-05-2018.csv\n",
      "Output already exist = C:\\Users\\Family\\OneDrive - Mahidol University\\PT\\script\\Fund_data\\Fund_nav_05-05-2018_04-06-2018.csv\n",
      "Output already exist = C:\\Users\\Family\\OneDrive - Mahidol University\\PT\\script\\Fund_data\\Fund_nav_05-06-2018_05-07-2018.csv\n",
      "Output already exist = C:\\Users\\Family\\OneDrive - Mahidol University\\PT\\script\\Fund_data\\Fund_nav_06-07-2018_05-08-2018.csv\n",
      "Output already exist = C:\\Users\\Family\\OneDrive - Mahidol University\\PT\\script\\Fund_data\\Fund_nav_06-08-2018_05-09-2018.csv\n",
      "Output already exist = C:\\Users\\Family\\OneDrive - Mahidol University\\PT\\script\\Fund_data\\Fund_nav_06-09-2018_06-10-2018.csv\n",
      "Output already exist = C:\\Users\\Family\\OneDrive - Mahidol University\\PT\\script\\Fund_data\\Fund_nav_07-10-2018_06-11-2018.csv\n",
      "Output already exist = C:\\Users\\Family\\OneDrive - Mahidol University\\PT\\script\\Fund_data\\Fund_nav_07-11-2018_07-12-2018.csv\n",
      "Output already exist = C:\\Users\\Family\\OneDrive - Mahidol University\\PT\\script\\Fund_data\\Fund_nav_08-12-2018_07-01-2019.csv\n",
      "Output already exist = C:\\Users\\Family\\OneDrive - Mahidol University\\PT\\script\\Fund_data\\Fund_nav_08-01-2019_07-02-2019.csv\n",
      "Output already exist = C:\\Users\\Family\\OneDrive - Mahidol University\\PT\\script\\Fund_data\\Fund_nav_08-02-2019_10-03-2019.csv\n",
      "Output already exist = C:\\Users\\Family\\OneDrive - Mahidol University\\PT\\script\\Fund_data\\Fund_nav_11-03-2019_10-04-2019.csv\n",
      "Output already exist = C:\\Users\\Family\\OneDrive - Mahidol University\\PT\\script\\Fund_data\\Fund_nav_11-04-2019_11-05-2019.csv\n",
      "Output already exist = C:\\Users\\Family\\OneDrive - Mahidol University\\PT\\script\\Fund_data\\Fund_nav_12-05-2019_11-06-2019.csv\n",
      "Output already exist = C:\\Users\\Family\\OneDrive - Mahidol University\\PT\\script\\Fund_data\\Fund_nav_12-06-2019_12-07-2019.csv\n",
      "Output already exist = C:\\Users\\Family\\OneDrive - Mahidol University\\PT\\script\\Fund_data\\Fund_nav_13-07-2019_12-08-2019.csv\n",
      "Output already exist = C:\\Users\\Family\\OneDrive - Mahidol University\\PT\\script\\Fund_data\\Fund_nav_13-08-2019_12-09-2019.csv\n",
      "Output already exist = C:\\Users\\Family\\OneDrive - Mahidol University\\PT\\script\\Fund_data\\Fund_nav_13-09-2019_13-10-2019.csv\n",
      "Output already exist = C:\\Users\\Family\\OneDrive - Mahidol University\\PT\\script\\Fund_data\\Fund_nav_14-10-2019_13-11-2019.csv\n",
      "Output already exist = C:\\Users\\Family\\OneDrive - Mahidol University\\PT\\script\\Fund_data\\Fund_nav_14-11-2019_14-12-2019.csv\n",
      "Output already exist = C:\\Users\\Family\\OneDrive - Mahidol University\\PT\\script\\Fund_data\\Fund_nav_15-12-2019_14-01-2020.csv\n",
      "Output already exist = C:\\Users\\Family\\OneDrive - Mahidol University\\PT\\script\\Fund_data\\Fund_nav_15-01-2020_14-02-2020.csv\n",
      "Output already exist = C:\\Users\\Family\\OneDrive - Mahidol University\\PT\\script\\Fund_data\\Fund_nav_15-02-2020_16-03-2020.csv\n",
      "Output already exist = C:\\Users\\Family\\OneDrive - Mahidol University\\PT\\script\\Fund_data\\Fund_nav_17-03-2020_16-04-2020.csv\n",
      "Output already exist = C:\\Users\\Family\\OneDrive - Mahidol University\\PT\\script\\Fund_data\\Fund_nav_17-04-2020_17-05-2020.csv\n",
      "Output already exist = C:\\Users\\Family\\OneDrive - Mahidol University\\PT\\script\\Fund_data\\Fund_nav_18-05-2020_17-06-2020.csv\n",
      "Output already exist = C:\\Users\\Family\\OneDrive - Mahidol University\\PT\\script\\Fund_data\\Fund_nav_18-06-2020_18-07-2020.csv\n",
      "Output already exist = C:\\Users\\Family\\OneDrive - Mahidol University\\PT\\script\\Fund_data\\Fund_nav_19-07-2020_18-08-2020.csv\n",
      "Output already exist = C:\\Users\\Family\\OneDrive - Mahidol University\\PT\\script\\Fund_data\\Fund_nav_19-08-2020_18-09-2020.csv\n",
      "Output already exist = C:\\Users\\Family\\OneDrive - Mahidol University\\PT\\script\\Fund_data\\Fund_nav_19-09-2020_19-10-2020.csv\n",
      "Output already exist = C:\\Users\\Family\\OneDrive - Mahidol University\\PT\\script\\Fund_data\\Fund_nav_20-10-2020_19-11-2020.csv\n",
      "Output already exist = C:\\Users\\Family\\OneDrive - Mahidol University\\PT\\script\\Fund_data\\Fund_nav_20-11-2020_20-12-2020.csv\n",
      "Output already exist = C:\\Users\\Family\\OneDrive - Mahidol University\\PT\\script\\Fund_data\\Fund_nav_21-12-2020_20-01-2021.csv\n",
      "Output already exist = C:\\Users\\Family\\OneDrive - Mahidol University\\PT\\script\\Fund_data\\Fund_nav_21-01-2021_20-02-2021.csv\n",
      "Output already exist = C:\\Users\\Family\\OneDrive - Mahidol University\\PT\\script\\Fund_data\\Fund_nav_21-02-2021_23-03-2021.csv\n",
      "Output already exist = C:\\Users\\Family\\OneDrive - Mahidol University\\PT\\script\\Fund_data\\Fund_nav_24-03-2021_23-04-2021.csv\n",
      "Output already exist = C:\\Users\\Family\\OneDrive - Mahidol University\\PT\\script\\Fund_data\\Fund_nav_24-04-2021_24-05-2021.csv\n",
      "Output already exist = C:\\Users\\Family\\OneDrive - Mahidol University\\PT\\script\\Fund_data\\Fund_nav_25-05-2021_24-06-2021.csv\n",
      "Output already exist = C:\\Users\\Family\\OneDrive - Mahidol University\\PT\\script\\Fund_data\\Fund_nav_25-06-2021_25-07-2021.csv\n",
      "Output already exist = C:\\Users\\Family\\OneDrive - Mahidol University\\PT\\script\\Fund_data\\Fund_nav_26-07-2021_25-08-2021.csv\n",
      "Output already exist = C:\\Users\\Family\\OneDrive - Mahidol University\\PT\\script\\Fund_data\\Fund_nav_26-08-2021_25-09-2021.csv\n",
      "Output already exist = C:\\Users\\Family\\OneDrive - Mahidol University\\PT\\script\\Fund_data\\Fund_nav_26-09-2021_26-10-2021.csv\n",
      "Output already exist = C:\\Users\\Family\\OneDrive - Mahidol University\\PT\\script\\Fund_data\\Fund_nav_27-10-2021_26-11-2021.csv\n",
      "Output already exist = C:\\Users\\Family\\OneDrive - Mahidol University\\PT\\script\\Fund_data\\Fund_nav_27-11-2021_27-12-2021.csv\n",
      "Output already exist = C:\\Users\\Family\\OneDrive - Mahidol University\\PT\\script\\Fund_data\\Fund_nav_28-12-2021_27-01-2022.csv\n",
      "Output already exist = C:\\Users\\Family\\OneDrive - Mahidol University\\PT\\script\\Fund_data\\Fund_nav_28-01-2022_27-02-2022.csv\n",
      "Output already exist = C:\\Users\\Family\\OneDrive - Mahidol University\\PT\\script\\Fund_data\\Fund_nav_28-02-2022_30-03-2022.csv\n",
      "Output already exist = C:\\Users\\Family\\OneDrive - Mahidol University\\PT\\script\\Fund_data\\Fund_nav_31-03-2022_30-04-2022.csv\n",
      "Output already exist = C:\\Users\\Family\\OneDrive - Mahidol University\\PT\\script\\Fund_data\\Fund_nav_01-05-2022_31-05-2022.csv\n",
      "Output already exist = C:\\Users\\Family\\OneDrive - Mahidol University\\PT\\script\\Fund_data\\Fund_nav_01-06-2022_01-07-2022.csv\n",
      "Output already exist = C:\\Users\\Family\\OneDrive - Mahidol University\\PT\\script\\Fund_data\\Fund_nav_02-07-2022_01-08-2022.csv\n",
      "Output already exist = C:\\Users\\Family\\OneDrive - Mahidol University\\PT\\script\\Fund_data\\Fund_nav_02-08-2022_01-09-2022.csv\n",
      "Output already exist = C:\\Users\\Family\\OneDrive - Mahidol University\\PT\\script\\Fund_data\\Fund_nav_02-09-2022_02-10-2022.csv\n",
      "Output already exist = C:\\Users\\Family\\OneDrive - Mahidol University\\PT\\script\\Fund_data\\Fund_nav_03-10-2022_02-11-2022.csv\n",
      "Output already exist = C:\\Users\\Family\\OneDrive - Mahidol University\\PT\\script\\Fund_data\\Fund_nav_03-11-2022_03-12-2022.csv\n",
      "Output already exist = C:\\Users\\Family\\OneDrive - Mahidol University\\PT\\script\\Fund_data\\Fund_nav_04-12-2022_03-01-2023.csv\n",
      "Output already exist = C:\\Users\\Family\\OneDrive - Mahidol University\\PT\\script\\Fund_data\\Fund_nav_04-01-2023_03-02-2023.csv\n",
      "Output already exist = C:\\Users\\Family\\OneDrive - Mahidol University\\PT\\script\\Fund_data\\Fund_nav_04-02-2023_06-03-2023.csv\n"
     ]
    }
   ],
   "source": [
    "df_list = []\n",
    "for i in pairs:\n",
    "    #check if file already exist\n",
    "    if not Path(fr'''C:\\Users\\Family\\OneDrive - Mahidol University\\PT\\script\\Fund_data\\Fund_nav_{i[0].strftime(\"%d-%m-%Y\")}_{i[1].strftime(\"%d-%m-%Y\")}.csv''').is_file():\n",
    "        txt_start_date = i[0].strftime(\"%d/%m/%Y\")\n",
    "        txt_end_date = i[1].strftime(\"%d/%m/%Y\")\n",
    "        url = f'https://api.settrade.com/api/fund-nav/all?fromDate={txt_start_date}&toDate={txt_end_date}'\n",
    "        res = requests.get(url)\n",
    "        print(f'''elapsed = {res.elapsed}, status_code = {res.status_code}, url = {res.url}''')\n",
    "        df = pd.DataFrame(res.json()['fundNavs'])\n",
    "        df.to_csv(fr'''C:\\Users\\Family\\OneDrive - Mahidol University\\PT\\script\\Fund_data\\Fund_nav_{i[0].strftime(\"%d-%m-%Y\")}_{i[1].strftime(\"%d-%m-%Y\")}.csv''', encoding='utf-8-sig', index=False)\n",
    "        print(fr'''Output generated = C:\\Users\\Family\\OneDrive - Mahidol University\\PT\\script\\Fund_data\\Fund_nav_{i[0].strftime(\"%d-%m-%Y\")}_{i[1].strftime(\"%d-%m-%Y\")}.csv''')\n",
    "    else:\n",
    "        print(fr'''Output already exist = C:\\Users\\Family\\OneDrive - Mahidol University\\PT\\script\\Fund_data\\Fund_nav_{i[0].strftime(\"%d-%m-%Y\")}_{i[1].strftime(\"%d-%m-%Y\")}.csv''')"
   ]
  }
 ],
 "metadata": {
  "kernelspec": {
   "display_name": "base",
   "language": "python",
   "name": "python3"
  },
  "language_info": {
   "codemirror_mode": {
    "name": "ipython",
    "version": 3
   },
   "file_extension": ".py",
   "mimetype": "text/x-python",
   "name": "python",
   "nbconvert_exporter": "python",
   "pygments_lexer": "ipython3",
   "version": "3.10.8"
  },
  "orig_nbformat": 4,
  "vscode": {
   "interpreter": {
    "hash": "bb48eb4d0583bb510dd8a60655e7f4485a1eb40c2f42bc5f5fb6729b38fbf8bf"
   }
  }
 },
 "nbformat": 4,
 "nbformat_minor": 2
}
